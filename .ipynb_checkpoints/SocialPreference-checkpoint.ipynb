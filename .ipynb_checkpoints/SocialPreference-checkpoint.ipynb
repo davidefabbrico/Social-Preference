{
 "cells": [
  {
   "cell_type": "markdown",
   "id": "1c2021b2",
   "metadata": {},
   "source": [
    "# Social Preference "
   ]
  },
  {
   "cell_type": "code",
   "execution_count": 6,
   "id": "6023a9d3",
   "metadata": {},
   "outputs": [
    {
     "name": "stdout",
     "output_type": "stream",
     "text": [
      "1.0000000000000002\n"
     ]
    },
    {
     "data": {
      "text/plain": [
       "5.91"
      ]
     },
     "execution_count": 6,
     "metadata": {},
     "output_type": "execute_result"
    }
   ],
   "source": [
    "# librerie\n",
    "import numpy as np\n",
    "import math\n",
    "import itertools\n",
    "\n",
    "# funzioni principali\n",
    "\n",
    "def multiply_permutations(perm1, perm2):\n",
    "    return [perm1[i] for i in perm2]\n",
    "\n",
    "def inverse_permutation(perm):\n",
    "    perm = np.array(perm)\n",
    "    inv_perm = np.zeros_like(perm)\n",
    "    inv_perm[perm] = np.arange(len(perm))\n",
    "    return inv_perm\n",
    "\n",
    "def find_tuple(lst_of_tuples, target_tuple):\n",
    "    for i, t in enumerate(lst_of_tuples):\n",
    "        if t == target_tuple:\n",
    "            return i \n",
    "    return -1\n",
    "\n",
    "# Define the PSO algorithm\n",
    "def pso(cost_func, dim=2, num_particles=30, max_iter=100, w=0.5, c1=1, c2=2):\n",
    "    # Initialize particles and velocities\n",
    "    particles = np.random.dirichlet(np.repeat(0.1, dim), num_particles)\n",
    "    velocities = np.zeros((num_particles, dim))\n",
    "\n",
    "    # Initialize the best positions and fitness values\n",
    "    best_positions = np.copy(particles)\n",
    "    best_fitness = np.array([cost_func(p) for p in particles])\n",
    "    swarm_best_position = best_positions[np.argmin(best_fitness)]\n",
    "    swarm_best_fitness = np.min(best_fitness)\n",
    "\n",
    "    # Iterate through the specified number of iterations, updating the velocity and position of each particle at each iteration\n",
    "    for i in range(max_iter):\n",
    "        # Update velocities\n",
    "        r1 = np.random.uniform(0, 1, (num_particles, dim))\n",
    "        r2 = np.random.uniform(0, 1, (num_particles, dim))\n",
    "        velocities = w * velocities + c1 * r1 * (best_positions - particles) + c2 * r2 * (swarm_best_position - particles)\n",
    "\n",
    "        # Update positions\n",
    "        particles += velocities\n",
    "        \n",
    "        if all(particles.ravel() > 0):\n",
    "            # Evaluate fitness of each particle\n",
    "            fitness_values = np.array([cost_func(p) for p in particles])\n",
    "\n",
    "            # Update best positions and fitness values\n",
    "            improved_indices = np.where(fitness_values < best_fitness)\n",
    "            best_positions[improved_indices] = particles[improved_indices]\n",
    "            best_fitness[improved_indices] = fitness_values[improved_indices]\n",
    "            if np.min(fitness_values) < swarm_best_fitness:\n",
    "                swarm_best_position = particles[np.argmin(fitness_values)]\n",
    "                swarm_best_fitness = np.min(fitness_values)\n",
    "\n",
    "    # Return the best solution found by the PSO algorithm\n",
    "    return swarm_best_position, swarm_best_fitness\n",
    "\n",
    "\n",
    "def funPrinc(vector):\n",
    "    MCiterations = 1000\n",
    "    eps = 100\n",
    "    fact = np.math.factorial(k)\n",
    "    random_matrix = np.zeros((fact, fact)) # inizializzazione matrice delle distanze\n",
    "    random_matrix[0,1:] = vector\n",
    "    for i in range(1, random_matrix.shape[0]):\n",
    "        for j in range(i+1, random_matrix.shape[1]):\n",
    "            r = tuple(multiply_permutations(multiply_permutations(L[i], inverse_permutation(L[j])), L[0]))\n",
    "            random_matrix[i,j] = random_matrix[0, find_tuple(L, r)]\n",
    "    valori_minimi = np.zeros(MCiterations)\n",
    "    for i in range(MCiterations):\n",
    "        C = np.random.choice(np.arange(len(L)), n, replace=True) # uniform probability\n",
    "        sommaTot = np.zeros(len(L))\n",
    "        for y in range(len(L)):\n",
    "            sommaF = 0\n",
    "            for j in C:\n",
    "                sommaF += random_matrix[y, j]\n",
    "            sommaTot[y] = sommaF\n",
    "        minimo = np.min(sommaTot)\n",
    "        valori_minimi[i] = np.sum((sommaTot >= minimo - eps) & (sommaTot <= minimo + eps))\n",
    "    meanMin = np.mean(valori_minimi)\n",
    "    return meanMin\n",
    "\n",
    "\n",
    "n = 500\n",
    "k = 3\n",
    "items = np.array(range(k))\n",
    "L = list(itertools.permutations(items))\n",
    "\n",
    "\n",
    "solution, fitness = pso(funPrinc, dim=np.math.factorial(k)-1, max_iter=10000)\n",
    "\n",
    "print(sum(solution))\n",
    "fitness"
   ]
  },
  {
   "cell_type": "code",
   "execution_count": null,
   "id": "d21fdba0",
   "metadata": {},
   "outputs": [],
   "source": []
  }
 ],
 "metadata": {
  "kernelspec": {
   "display_name": "Python 3 (ipykernel)",
   "language": "python",
   "name": "python3"
  },
  "language_info": {
   "codemirror_mode": {
    "name": "ipython",
    "version": 3
   },
   "file_extension": ".py",
   "mimetype": "text/x-python",
   "name": "python",
   "nbconvert_exporter": "python",
   "pygments_lexer": "ipython3",
   "version": "3.10.9"
  }
 },
 "nbformat": 4,
 "nbformat_minor": 5
}
